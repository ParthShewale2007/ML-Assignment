{
 "cells": [
  {
   "cell_type": "markdown",
   "id": "2db23768",
   "metadata": {},
   "source": [
    "### Operations on String"
   ]
  },
  {
   "cell_type": "code",
   "execution_count": 2,
   "id": "e1ea313e",
   "metadata": {},
   "outputs": [
    {
     "name": "stdout",
     "output_type": "stream",
     "text": [
      "11\n",
      "hello\n",
      "HELLO\n",
      "hello\n",
      "True\n",
      "orange banana orange\n",
      "['apple', 'banana', 'orange']\n",
      "apple-banana-orange\n",
      "7\n",
      "True\n",
      "True\n"
     ]
    }
   ],
   "source": [
    "text = \"Hello World\"\n",
    "print(len(text))\n",
    "\n",
    "text = \"HELLO\"\n",
    "print(text.lower())\n",
    "\n",
    "text = \"hello\"\n",
    "print(text.upper())\n",
    "\n",
    "text = \"  hello  \"\n",
    "print(text.strip())\n",
    "\n",
    "text = \"hello world\"\n",
    "print(text.startswith(\"hello\"))\n",
    "\n",
    "text = \"apple banana apple\"\n",
    "print(text.replace(\"apple\", \"orange\"))\n",
    "\n",
    "text = \"apple,banana,orange\"\n",
    "print(text.split(\",\"))\n",
    "\n",
    "\n",
    "colors = ['apple', 'banana', 'orange']\n",
    "print(\"-\".join(colors))\n",
    "\n",
    "text = \"Python programming\"\n",
    "print(text.find(\"program\"))\n",
    "\n",
    "num = \"12345\"\n",
    "print(num.isdigit()) \n",
    "\n",
    "text = \"Hello\"\n",
    "print(text.isalpha())"
   ]
  },
  {
   "cell_type": "markdown",
   "id": "55247129",
   "metadata": {},
   "source": [
    "### BITWISE OPERATORS"
   ]
  },
  {
   "cell_type": "code",
   "execution_count": 12,
   "id": "70e17292",
   "metadata": {},
   "outputs": [
    {
     "name": "stdout",
     "output_type": "stream",
     "text": [
      "a & b = 4\n",
      "a | b = 5\n",
      "a ^ b = 1\n",
      "~a = -6\n",
      "a << 1 = 10\n",
      "a >> 1 = 2\n"
     ]
    }
   ],
   "source": [
    "a = 5\n",
    "b = 4\n",
    "\n",
    "print(\"a & b =\", a & b)       \n",
    "print(\"a | b =\", a | b)       \n",
    "print(\"a ^ b =\", a ^ b)       \n",
    "print(\"~a =\", ~a)             \n",
    "print(\"a << 1 =\", a << 1)    \n",
    "print(\"a >> 1 =\", a >> 1)     "
   ]
  },
  {
   "cell_type": "markdown",
   "id": "37716188",
   "metadata": {},
   "source": [
    "### ASSIGNMENT OPERATOR"
   ]
  },
  {
   "cell_type": "code",
   "execution_count": 3,
   "id": "7743b04e",
   "metadata": {},
   "outputs": [
    {
     "name": "stdout",
     "output_type": "stream",
     "text": [
      "Initial x = 10\n",
      "After x = 5: 5\n",
      "After x += 3: 8\n",
      "After x -= 2: 6\n",
      "After x *= 4: 24\n",
      "After x /= 2: 12.0\n",
      "After x //= 2: 6.0\n",
      "After x %= 3: 0.0\n",
      "After x **= 2: 25\n",
      "After x &= 3: 1\n",
      "After x |= 1: 1\n"
     ]
    }
   ],
   "source": [
    "# Initial value\n",
    "x = 10\n",
    "print(\"Initial x =\", x)\n",
    "\n",
    "#Assignment\n",
    "x = 5\n",
    "print(\"After x = 5:\", x)\n",
    "\n",
    "# += (Addition Assignment)\n",
    "x += 3  # x = x + 3\n",
    "print(\"After x += 3:\", x)\n",
    "\n",
    "# -= (Subtraction Assignment)\n",
    "x -= 2  # x = x - 2\n",
    "print(\"After x -= 2:\", x)\n",
    "\n",
    "# *= (Multiplication Assignment)\n",
    "x *= 4  # x = x * 4\n",
    "print(\"After x *= 4:\", x)\n",
    "\n",
    "# /= (Division Assignment)\n",
    "x /= 2  # x = x / 2\n",
    "print(\"After x /= 2:\", x)\n",
    "\n",
    "# //= (Floor Division Assignment)\n",
    "x //= 2  # x = x // 2\n",
    "print(\"After x //= 2:\", x)\n",
    "\n",
    "# %= (Modulus Assignment)\n",
    "x %= 3  # x = x % 3\n",
    "print(\"After x %= 3:\", x)\n",
    "\n",
    "x = 5\n",
    "\n",
    "# **= (Exponentiation Assignment)\n",
    "x **= 2  # x = x ** 2\n",
    "print(\"After x **= 2:\", x)\n",
    "\n",
    "# &= (Bitwise AND Assignment)\n",
    "x &= 3  # x = x & 3\n",
    "print(\"After x &= 3:\", x)\n",
    "\n",
    "# |= (Bitwise OR Assignment)\n",
    "x |= 1  # x = x | 1\n",
    "print(\"After x |= 1:\", x)\n"
   ]
  },
  {
   "cell_type": "code",
   "execution_count": null,
   "id": "5d8f1877-3e3f-4fd9-a05b-0bf39a7e3291",
   "metadata": {},
   "outputs": [],
   "source": []
  }
 ],
 "metadata": {
  "kernelspec": {
   "display_name": "Python 3 (ipykernel)",
   "language": "python",
   "name": "python3"
  },
  "language_info": {
   "codemirror_mode": {
    "name": "ipython",
    "version": 3
   },
   "file_extension": ".py",
   "mimetype": "text/x-python",
   "name": "python",
   "nbconvert_exporter": "python",
   "pygments_lexer": "ipython3",
   "version": "3.13.5"
  }
 },
 "nbformat": 4,
 "nbformat_minor": 5
}
